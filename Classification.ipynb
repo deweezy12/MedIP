{
 "cells": [
  {
   "cell_type": "code",
   "execution_count": 1,
   "id": "a3e044d9-b2ce-44c1-a78a-79281852bb0a",
   "metadata": {
    "tags": []
   },
   "outputs": [],
   "source": [
    "%load_ext autoreload\n",
    "%autoreload 2\n",
    "%matplotlib inline"
   ]
  },
  {
   "cell_type": "code",
   "execution_count": 2,
   "id": "b58e4f47-ff8a-403b-aac3-9e84bcce4567",
   "metadata": {
    "tags": []
   },
   "outputs": [
    {
     "ename": "ModuleNotFoundError",
     "evalue": "No module named 'emidec_lib'",
     "output_type": "error",
     "traceback": [
      "\u001b[31m---------------------------------------------------------------------------\u001b[39m",
      "\u001b[31mModuleNotFoundError\u001b[39m                       Traceback (most recent call last)",
      "\u001b[36mCell\u001b[39m\u001b[36m \u001b[39m\u001b[32mIn[2]\u001b[39m\u001b[32m, line 19\u001b[39m\n\u001b[32m     16\u001b[39m \u001b[38;5;28;01mfrom\u001b[39;00m\u001b[38;5;250m \u001b[39m\u001b[34;01mpycaret\u001b[39;00m\u001b[34;01m.\u001b[39;00m\u001b[34;01mclassification\u001b[39;00m\u001b[38;5;250m \u001b[39m\u001b[38;5;28;01mimport\u001b[39;00m ClassificationExperiment, models\n\u001b[32m     18\u001b[39m \u001b[38;5;66;03m#\u001b[39;00m\n\u001b[32m---> \u001b[39m\u001b[32m19\u001b[39m \u001b[38;5;28;01mfrom\u001b[39;00m\u001b[38;5;250m \u001b[39m\u001b[34;01memidec_lib\u001b[39;00m\u001b[34;01m.\u001b[39;00m\u001b[34;01mdataset\u001b[39;00m\u001b[38;5;250m \u001b[39m\u001b[38;5;28;01mimport\u001b[39;00m extract_radiomics_dataset\n\u001b[32m     20\u001b[39m \u001b[38;5;28;01mfrom\u001b[39;00m\u001b[38;5;250m \u001b[39m\u001b[34;01memidec_lib\u001b[39;00m\u001b[34;01m.\u001b[39;00m\u001b[34;01mutils\u001b[39;00m\u001b[38;5;250m \u001b[39m\u001b[38;5;28;01mimport\u001b[39;00m (\n\u001b[32m     21\u001b[39m     calculate_radiomics_features, \n\u001b[32m     22\u001b[39m     get_feature_classes, \n\u001b[32m   (...)\u001b[39m\u001b[32m     26\u001b[39m     filter_lvm\n\u001b[32m     27\u001b[39m )\n\u001b[32m     28\u001b[39m \u001b[38;5;28;01mfrom\u001b[39;00m\u001b[38;5;250m \u001b[39m\u001b[34;01memidec_lib\u001b[39;00m\u001b[34;01m.\u001b[39;00m\u001b[34;01mvisualization\u001b[39;00m\u001b[38;5;250m \u001b[39m\u001b[38;5;28;01mimport\u001b[39;00m mask_overlay, plot_4_slices, plot_slice_x\n",
      "\u001b[31mModuleNotFoundError\u001b[39m: No module named 'emidec_lib'"
     ]
    }
   ],
   "source": [
    "from pathlib import Path\n",
    "from tqdm.notebook import tqdm\n",
    "\n",
    "#\n",
    "import seaborn as sns\n",
    "import matplotlib.pyplot as plt\n",
    "import plotly.express as px\n",
    "import matplotlib.font_manager\n",
    "import plotly.io as pio\n",
    "pio.renderers.default = 'iframe'\n",
    "\n",
    "#\n",
    "import numpy as np\n",
    "import pandas as pd\n",
    "from sklearn.model_selection import train_test_split\n",
    "from pycaret.classification import ClassificationExperiment, models\n",
    "\n",
    "#\n",
    "from emidec_lib.dataset import extract_radiomics_dataset\n",
    "from emidec_lib.utils import (\n",
    "    calculate_radiomics_features, \n",
    "    get_feature_classes, \n",
    "    get_clinical_features,\n",
    "    load_image,\n",
    "    load_mask,\n",
    "    filter_lvm\n",
    ")\n",
    "from emidec_lib.visualization import mask_overlay, plot_4_slices, plot_slice_x"
   ]
  },
  {
   "cell_type": "markdown",
   "id": "ea2f3ac0-77eb-47f3-99e4-2e4a540d47df",
   "metadata": {},
   "source": [
    "**Q**: How many machine learning specialists does it take to change a light bulb?\n",
    "\n",
    "**A**: Just one, but they require a million light bulbs to train properly.\n",
    "\n",
    "**Q**: How many machine learning specialists does it take to change a fluorescent light bulb?\n",
    "\n",
    "**A**: That wasn't in the training data!"
   ]
  },
  {
   "cell_type": "markdown",
   "id": "303ac219-a186-4456-8a96-6bf4731dbdf6",
   "metadata": {
    "tags": []
   },
   "source": [
    "# Load EMIDEC dataset"
   ]
  },
  {
   "cell_type": "markdown",
   "id": "f26d68d8-1210-4bf0-89a4-b75d605b83f7",
   "metadata": {},
   "source": [
    "The Emidec dataset is a new publicly available DE-MRI database with associated clinical information consisting of 150 exams. The data of each clinical exam are divided into two parts:\n",
    "\n",
    "- MR images composed of a series of DE-MRI in short axis orientation that cover the left ventricle of the heart, with the corresponding ground truths;\n",
    "- A text file with the clinical information.\n",
    "\n",
    "There is an unbalanced distribution between normal (1/3) and pathological (2/3) cases, corresponding roughly to real life in an MRI department. The targeted cohort is any patient admitted in a cardiac emergency department with symptoms of a heart attack. Each group was clearly defined according to physiological parameters and the presence or absence of a disease area on DE-MRI. All pathological cases are patients with acute MI, and the MRI exam was done within one month of the angioplasty procedure. Patients with multiple pathologies were discarded.\n"
   ]
  },
  {
   "cell_type": "markdown",
   "id": "17733264-a7c2-49aa-bb12-4c51a00d00ea",
   "metadata": {},
   "source": [
    "## Radiomics"
   ]
  },
  {
   "cell_type": "markdown",
   "id": "8e609401-bc02-4729-8e1b-0e9bd8739b10",
   "metadata": {
    "tags": []
   },
   "source": [
    "![alt text](resources/radiomics.jpg)"
   ]
  },
  {
   "cell_type": "markdown",
   "id": "23fb4419-3a02-4584-83a7-2ba0a2e3b031",
   "metadata": {},
   "source": [
    "Radiomics is an emerging field in medical imaging that involves the extraction of a large number of features from medical images using data-characterization algorithms. These features, which can be shape, intensity, texture, or wavelet features, were originally designed to quantify the tumor phenotype. Nowadays, this approach is particularly useful in medical image-based phenotyping.\n",
    "\n",
    "https://pyradiomics.readthedocs.io/en/latest/"
   ]
  },
  {
   "cell_type": "code",
   "execution_count": null,
   "id": "2664c866-d21a-4dab-8f3d-5beb43a716e7",
   "metadata": {
    "tags": []
   },
   "outputs": [],
   "source": [
    "dataset = 'training'\n",
    "data_path = Path('/data/Lab8_Classification')\n",
    "data_df = extract_radiomics_dataset(data_path, dataset=dataset, map_categorical=True)\n",
    "feature_classes = get_feature_classes(data_df.columns)"
   ]
  },
  {
   "cell_type": "code",
   "execution_count": null,
   "id": "d15b02b2-64c1-40d1-a72c-9ae7b77a5d13",
   "metadata": {
    "tags": []
   },
   "outputs": [],
   "source": [
    "data_df"
   ]
  },
  {
   "cell_type": "markdown",
   "id": "1a653ef8-ac74-4a56-956b-b77a1c142520",
   "metadata": {},
   "source": [
    "# Train/test split"
   ]
  },
  {
   "cell_type": "markdown",
   "id": "abd65445-f1b4-4985-ad13-b68e3f901759",
   "metadata": {
    "tags": []
   },
   "source": [
    "The train/test split is essential in developing machine learning (ML) models for healthcare for several key reasons:\n",
    "\n",
    "1. **Generalization**: It evaluates the model's performance on unseen data, ensuring it can generalize beyond the specific data it was trained on.\n",
    "2. **Overfitting Prevention**: Helps detect overfitting by comparing the model's performance on training data versus unseen test data. Overfitting occurs when a model learns from noise or random fluctuations in the training data, reducing its effectiveness on new data.\n",
    "3. **Model Selection and Tuning**: Facilitates the comparison of different models and settings on a consistent dataset, aiding in the selection of the most effective model.\n",
    "4. **Robustness Validation**: Ensures the model's reliability across different patient demographics, disease states, and clinical environments, a critical factor in medical applications.\n",
    "5. **Regulatory and Ethical Compliance**: Demonstrating effective performance on a separate test set is often required for regulatory approval. It also supports ethical considerations by ensuring models do not amplify biases.\n",
    "6. **Supports Incremental Learning**: Allows for the structured evaluation of model updates, ensuring improvements are validated before deployment in a clinical setting.\n",
    "\n",
    "In summary, the train/test split is vital for creating reliable, effective, and ethically responsible ML models in healthcare, ensuring they perform well in real-world conditions and comply with regulatory standards."
   ]
  },
  {
   "cell_type": "markdown",
   "id": "99562226-4b63-415c-8723-363787f68cc1",
   "metadata": {},
   "source": [
    "### Cross-validation"
   ]
  },
  {
   "cell_type": "markdown",
   "id": "b3ffc959-539b-44a5-8f8a-7343516940a5",
   "metadata": {},
   "source": [
    "<img src=\"resources/cross-validation.png\" align=\"left\" width=\"500\" />"
   ]
  },
  {
   "cell_type": "code",
   "execution_count": null,
   "id": "6617853f-51f8-45b3-a019-6f04b6bc074c",
   "metadata": {
    "tags": []
   },
   "outputs": [],
   "source": [
    "seed = 42\n",
    "target = 'Pathological'"
   ]
  },
  {
   "cell_type": "code",
   "execution_count": null,
   "id": "cefbb88f-6c40-4e42-b098-e848139c382a",
   "metadata": {
    "tags": []
   },
   "outputs": [],
   "source": [
    "train_df, test_df = train_test_split(data_df, test_size=0.2, random_state=seed, stratify=data_df[target])"
   ]
  },
  {
   "cell_type": "markdown",
   "id": "09fe6849-a6cb-4fca-a70b-409923f624a1",
   "metadata": {},
   "source": [
    "# Data visualization"
   ]
  },
  {
   "cell_type": "code",
   "execution_count": null,
   "id": "d0264b93-ddd5-44e4-9202-2d55031091bc",
   "metadata": {
    "tags": []
   },
   "outputs": [],
   "source": [
    "plt.figure()\n",
    "\n",
    "sns.violinplot(train_df, x='Pathological', y='clinical_Age', hue='clinical_Sex')"
   ]
  },
  {
   "cell_type": "markdown",
   "id": "b86f5906-9dbf-4496-9c02-a209dd1ee1b0",
   "metadata": {},
   "source": [
    "## Task 1: \n",
    "\n",
    "Play around with plotting different variables.\n",
    "\n",
    "##### Q1: What information do you get about the dataset?\n",
    "\n",
    "The dataset has 150 samples with unbalanced classes (1/3 normal, 2/3 pathological). It contains clinical features like age and sex plus radiomics features extracted from MRI images. This is a binary classification problem for detecting some heart condition.\n",
    "\n",
    "\n",
    "##### Q2: Can you identify properties that are predictive for myocardial infaction?"
   ]
  },
  {
   "cell_type": "code",
   "execution_count": null,
   "id": "41efa8cf-5d6e-441f-b50b-c9649b8fa6db",
   "metadata": {
    "tags": []
   },
   "outputs": [],
   "source": [
    "columns = ['clinical_Troponin', 'clinical_NTProBNP', 'clinical_Tobacco', 'clinical_Overweight', target]\n",
    "fig = px.parallel_coordinates(train_df[columns], color=target)\n",
    "fig.show()"
   ]
  },
  {
   "cell_type": "markdown",
   "id": "78a13298-a346-410f-946a-dc4b1e721931",
   "metadata": {},
   "source": [
    "## Evaluation metrics"
   ]
  },
  {
   "cell_type": "markdown",
   "id": "0c6446c9-f13e-4467-af92-643735d3c51c",
   "metadata": {
    "tags": []
   },
   "source": [
    "Accuracy = $\\frac{TP + TN}{TP + TN + FP + FN}$\n",
    "\n",
    "Recall = $\\frac{TP}{TP + FN}$\n",
    "\n",
    "Precision = $\\frac{TP}{TP + FP}$\n",
    "\n",
    "F1 = $\\frac{2 * Precision * Recall}{Precision + Recall}$"
   ]
  },
  {
   "cell_type": "markdown",
   "id": "cfd17f53-ac46-421d-b3ce-7e8ba708f09d",
   "metadata": {},
   "source": [
    "## Machine learning models"
   ]
  },
  {
   "cell_type": "markdown",
   "id": "ce73e3f2-9181-45de-8490-ba2e344f45d5",
   "metadata": {},
   "source": [
    "1. Logistic Regression (https://scikit-learn.org/stable/modules/linear_model.html#logistic-regression)\n",
    "2. Ada Boost Classifier (https://scikit-learn.org/stable/modules/ensemble.html#adaboost)\n",
    "3. Random Forest Classifier (https://scikit-learn.org/stable/modules/ensemble.html#random-forests-and-other-randomized-tree-ensembles)\n",
    "4. Support Vector Machine (https://scikit-learn.org/stable/modules/svm.html#classification)\n",
    "5. Ridge Classifier (https://scikit-learn.org/stable/modules/linear_model.html#ridge-regression-and-classification)\n",
    "\n",
    "https://pycaret.readthedocs.io/en/latest/index.html"
   ]
  },
  {
   "cell_type": "markdown",
   "id": "e3d3d71e-27b7-44f9-bfeb-9e9758494e61",
   "metadata": {},
   "source": [
    "## Task 2\n",
    "\n",
    "##### Q3: Select two of the classifiers. Briefly describe the concept and what special property this classfier has.\n",
    "\n",
    "The Logistic Regression Classifier, is a linear classifier that uses a sigmoid function to output probabilities. The coefficients are interpretable which is useful for understand feature importance. \n",
    "\n",
    "Random forest is an ensemble method that combines multiple decision trees. It can handle non-linear relationships and automatically provides feature importance scores. "
   ]
  },
  {
   "cell_type": "markdown",
   "id": "fe4e44a6-f2bb-4bb4-b095-b9d6db2f7197",
   "metadata": {},
   "source": [
    "# Model training (Clinical features)"
   ]
  },
  {
   "cell_type": "markdown",
   "id": "b09d09e4-166f-45ea-a880-004f1e1d30e0",
   "metadata": {},
   "source": [
    "Along with MRI, clinical characteristics are provided in a text file. These characteristics are: sex, age, tobacco (yes, no, or former smoker), overweight (body mass index (BMI) higher than 25), arterial hypertension (Y/N), diabetes (Y/N), familial history of coronary artery disease (Y/N), electrocardiogram (ECG) (ST+ (STEMI) or not), troponin (value), Killip max (between 1 and 4), ejection fraction of the left ventricle from echocardiography (value), and NTproBNP (value).\n",
    "\n",
    "https://www.mdpi.com/2306-5729/5/4/89"
   ]
  },
  {
   "cell_type": "code",
   "execution_count": null,
   "id": "67822950-98b1-4d7c-81c0-47d1ca92f51b",
   "metadata": {
    "tags": []
   },
   "outputs": [],
   "source": [
    "clinical_columns = feature_classes['clinical']"
   ]
  },
  {
   "cell_type": "code",
   "execution_count": null,
   "id": "76d59ad4-6a1d-452b-b7f4-455e2efea6fc",
   "metadata": {
    "tags": []
   },
   "outputs": [],
   "source": [
    "clinical_experiment = ClassificationExperiment()\n",
    "clinical_experiment.setup(\n",
    "    data=train_df[clinical_columns + [target]],\n",
    "    test_data=test_df[clinical_columns + [target]],\n",
    "    target=target,\n",
    "    normalize=True,\n",
    "    normalize_method=\"zscore\",\n",
    "    fix_imbalance=True,\n",
    "    remove_outliers=False,\n",
    "    session_id=seed,\n",
    "    fold=10\n",
    ")"
   ]
  },
  {
   "cell_type": "code",
   "execution_count": null,
   "id": "0d343fab-2c3d-4633-a3fa-401139ee5482",
   "metadata": {
    "tags": []
   },
   "outputs": [],
   "source": [
    "models = ['lr', 'ada', 'rf', 'svm', 'ridge']\n",
    "clinical_best = clinical_experiment.compare_models(include=models, sort='F1')"
   ]
  },
  {
   "cell_type": "code",
   "execution_count": null,
   "id": "e04a4989-4b67-42b3-bfd7-1cd7ca66e43b",
   "metadata": {
    "tags": []
   },
   "outputs": [],
   "source": [
    "clinical_model = clinical_experiment.create_model(\"lr\")"
   ]
  },
  {
   "cell_type": "code",
   "execution_count": null,
   "id": "4b3a3bbe-901a-4691-aa30-e295df9ad0bf",
   "metadata": {
    "tags": []
   },
   "outputs": [],
   "source": [
    "clinical_experiment.evaluate_model(clinical_model)"
   ]
  },
  {
   "cell_type": "markdown",
   "id": "adc53dce-07ae-421d-9fdc-9bb607a936c6",
   "metadata": {},
   "source": [
    "## Task 3\n",
    "Look at the dicision boundaries of different classifiers. (Feature One, Feature 2 are the two main axes of the PCA)\n",
    "\n",
    "##### Q4: Do you find a reason why lr is the best?\n",
    "\n",
    "With only 150 samples, simpler models usually generalize better than complex ones. The features are probably linearly separable after normalization. LR avoids overfitting that more complex models might suffer from with this small dataset size.\n"
   ]
  },
  {
   "cell_type": "markdown",
   "id": "bc543e55-4edf-4152-aedd-a5673ecbe052",
   "metadata": {
    "tags": []
   },
   "source": [
    "# Model training"
   ]
  },
  {
   "cell_type": "code",
   "execution_count": null,
   "id": "c72c0cb0-faf2-4a75-8f90-91712f755c43",
   "metadata": {
    "tags": []
   },
   "outputs": [],
   "source": [
    "lvm_columns = list(filter(lambda c: 'LVM_' in c, train_df.columns))"
   ]
  },
  {
   "cell_type": "code",
   "execution_count": null,
   "id": "0bb2326c-922c-441f-b94a-ee4e8cd735f2",
   "metadata": {
    "tags": []
   },
   "outputs": [],
   "source": [
    "radiomics_experiment = ClassificationExperiment()\n",
    "radiomics_experiment.setup(\n",
    "    data=train_df[clinical_columns + lvm_columns + [target]],\n",
    "    test_data=test_df[clinical_columns + lvm_columns + [target]],\n",
    "    target=target,\n",
    "    normalize=True,\n",
    "    normalize_method=\"zscore\",\n",
    "    fix_imbalance=True,\n",
    "    remove_outliers=False,\n",
    "    session_id=seed,\n",
    "    fold=10\n",
    ")"
   ]
  },
  {
   "cell_type": "code",
   "execution_count": null,
   "id": "ddf035bc-aa08-4fda-b9d1-490c9e11e211",
   "metadata": {
    "tags": []
   },
   "outputs": [],
   "source": [
    "models = ['lr', 'ada', 'rf', 'svm', 'ridge']\n",
    "radiomics_best = radiomics_experiment.compare_models(include=models, sort='F1')"
   ]
  },
  {
   "cell_type": "code",
   "execution_count": null,
   "id": "97997a22-46ee-4e9c-9922-d7ec7883105c",
   "metadata": {
    "tags": []
   },
   "outputs": [],
   "source": [
    "radiomics_model = radiomics_experiment.create_model(\"lr\")"
   ]
  },
  {
   "cell_type": "code",
   "execution_count": null,
   "id": "93f831b2-3fe8-4593-85b6-52cfa96b8a2e",
   "metadata": {
    "tags": []
   },
   "outputs": [],
   "source": [
    "radiomics_experiment.evaluate_model(radiomics_model)"
   ]
  },
  {
   "cell_type": "markdown",
   "id": "cfeacc2a-506b-4bd2-a825-775913c3b7a3",
   "metadata": {},
   "source": [
    "# Task 4: \n",
    "Look what changed by using the image based features (radiomics). First order skewness (look below) is the most relevant feature. \n",
    "##### Q5: Why could this be the case? Does it make sense from what we know about the MRI data? (Also look at the example plots below to find a reasoning.)\n"
   ]
  },
  {
   "cell_type": "markdown",
   "id": "c5cef185-785f-4472-800c-e37efa63e774",
   "metadata": {},
   "source": [
    "## Interpretation"
   ]
  },
  {
   "cell_type": "markdown",
   "id": "06f3214b-10e6-4fe5-a3e6-4228e613d12e",
   "metadata": {},
   "source": [
    "### Skewness (First-order)"
   ]
  },
  {
   "cell_type": "markdown",
   "id": "11d24b58-8775-4d6b-95c5-89bd91205bd1",
   "metadata": {},
   "source": [
    "https://pyradiomics.readthedocs.io/en/latest/features.html#radiomics.firstorder.RadiomicsFirstOrder"
   ]
  },
  {
   "cell_type": "markdown",
   "id": "92a10bb0-d8a2-422b-930a-d59fcdda6aac",
   "metadata": {
    "tags": []
   },
   "source": [
    "![title](resources/skewness.png)"
   ]
  },
  {
   "cell_type": "markdown",
   "id": "0e65a856-5fd9-446a-a32f-f2b4672201fe",
   "metadata": {},
   "source": [
    "$$\\textit{skewness} = \\displaystyle\\frac{\\mu_3}{\\sigma^3} =\n",
    "\\frac{\\frac{1}{N_p}\\sum^{N_p}_{i=1}{(\\textbf{X}(i)-\\bar{X})^3}}\n",
    "{\\left(\\sqrt{\\frac{1}{N_p}\\sum^{N_p}_{i=1}{(\\textbf{X}(i)-\\bar{X})^2}}\\right)^3}\n",
    "$$"
   ]
  },
  {
   "cell_type": "code",
   "execution_count": null,
   "id": "9eaa8f48-a955-4545-9952-98542fec42d2",
   "metadata": {
    "tags": []
   },
   "outputs": [],
   "source": [
    "plt.figure()\n",
    "\n",
    "sns.violinplot(train_df, x='clinical_Sex', y='LVM_firstorder_Skewness', hue='Pathological')"
   ]
  },
  {
   "cell_type": "markdown",
   "id": "f3d56808-9891-49d3-93b7-2e37c9f1e0cb",
   "metadata": {},
   "source": [
    "### Plot a normal case"
   ]
  },
  {
   "cell_type": "code",
   "execution_count": null,
   "id": "9bac57b3-39ef-4c23-8dc5-1fc3d4a752fb",
   "metadata": {
    "tags": []
   },
   "outputs": [],
   "source": [
    "case_normal = 'Case_N070'\n",
    "image_normal, _ = load_image(data_path / dataset, case_normal)\n",
    "mask_normal = load_mask(data_path / dataset, case_normal)\n",
    "image_normal, mask_normal = image_normal.T, mask_normal.T\n",
    "plot_4_slices(image_normal[:, 100:150, 45:100])"
   ]
  },
  {
   "cell_type": "markdown",
   "id": "fd2c8727-5508-43b0-979a-47cee81e4036",
   "metadata": {},
   "source": [
    "### Plot a pathological case"
   ]
  },
  {
   "cell_type": "code",
   "execution_count": null,
   "id": "3e6a8919-47cd-4cb6-ad41-83c6d185b945",
   "metadata": {
    "tags": []
   },
   "outputs": [],
   "source": [
    "case_patho = 'Case_P066'\n",
    "image_patho, _ = load_image(data_path / dataset, case_patho)\n",
    "mask_patho = load_mask(data_path / dataset, case_patho)\n",
    "image_patho, mask_patho = image_patho.T, mask_patho.T\n",
    "plot_4_slices(image_patho[:, 100:150, 100:200])"
   ]
  },
  {
   "cell_type": "markdown",
   "id": "d5f99d25-db23-4084-ae48-c095aadb43b8",
   "metadata": {},
   "source": [
    "### Plot intensity distributions"
   ]
  },
  {
   "cell_type": "code",
   "execution_count": null,
   "id": "9007c220-7a3e-45d0-9a51-815a95efe8c5",
   "metadata": {
    "tags": []
   },
   "outputs": [],
   "source": [
    "intensities_normal = pd.DataFrame(image_normal[filter_lvm(mask_normal) == 1], columns=['Intensity'])\n",
    "intensities_normal['Pathological'] = False\n",
    "intensities_patho = pd.DataFrame(image_patho[filter_lvm(mask_patho) == 1], columns=['Intensity'])\n",
    "intensities_patho['Pathological'] = True\n",
    "intensities = pd.concat((intensities_normal, intensities_patho))"
   ]
  },
  {
   "cell_type": "code",
   "execution_count": null,
   "id": "a3298732-c947-4a3f-ba57-348514482d3a",
   "metadata": {
    "tags": []
   },
   "outputs": [],
   "source": [
    "plt.figure()\n",
    "sns.histplot(intensities, x='Intensity', hue='Pathological')"
   ]
  },
  {
   "cell_type": "markdown",
   "id": "6134cba6-a724-408e-baae-67c81a5a96ee",
   "metadata": {},
   "source": [
    "### Correlation (GLCM)"
   ]
  },
  {
   "cell_type": "markdown",
   "id": "7ca177a5-c827-45a0-8f30-4b2675aaedc6",
   "metadata": {},
   "source": [
    "<img src=\"resources/glcm.png\" align=\"left\" width=\"500\" />"
   ]
  },
  {
   "cell_type": "markdown",
   "id": "ee6cc27f-8589-4a99-86ca-18ff3bcb0403",
   "metadata": {
    "tags": []
   },
   "source": [
    "https://pyradiomics.readthedocs.io/en/latest/features.html#module-radiomics.glcm"
   ]
  },
  {
   "cell_type": "markdown",
   "id": "f2c482cd-0273-4a4a-bcab-37acbb2fc3d8",
   "metadata": {},
   "source": [
    "$$\\textit{correlation} = \\frac{\\sum^{N_g}_{i=1}\\sum^{N_g}_{j=1}{p(i,j)ij-\\mu_x\\mu_y}}{\\sigma_x(i)\\sigma_y(j)}$$"
   ]
  },
  {
   "cell_type": "code",
   "execution_count": null,
   "id": "c33912ba-6012-4746-bf8c-c6d397450e7f",
   "metadata": {
    "tags": []
   },
   "outputs": [],
   "source": [
    "plt.figure()\n",
    "\n",
    "sns.violinplot(train_df, x='clinical_Sex', y='LVM_glcm_Correlation', hue='Pathological')"
   ]
  },
  {
   "cell_type": "markdown",
   "id": "59c42b96-638f-4284-ac7f-317248478cb4",
   "metadata": {},
   "source": [
    "## Task 5: \n",
    "\n",
    "##### Q6: What does the GLCM_correlation compute, what texture is an example for a high/low GLCM_correlation?\n",
    "\n",
    "GLCM correlation measures how predictably neighboring pixels relate to each other. High correlation means smooth, uniform textures while low correlation indicates irregular, heterogeneous patterns. Normal tissue would be more uniform than damaged tissue."
   ]
  },
  {
   "cell_type": "markdown",
   "id": "86fbd2fb-e1aa-43b1-bd70-d4fcaeda6b69",
   "metadata": {},
   "source": [
    "## Final Questions"
   ]
  },
  {
   "cell_type": "markdown",
   "id": "85b699d7-d3d9-495e-95a1-c052b78da9d8",
   "metadata": {},
   "source": [
    "##### Q7: What are radiomics?\n",
    "Radiomics extracts quantitative features from medical images using algorithms. It converts images into numerical data for machine learning analysis\n",
    "\n",
    "##### Q8: Why is train/test split so important?\n",
    "It prevents overfitting by evaluating on unseen data. This gives realistic performance estimates for real-world deployment.\n",
    "\n",
    "##### Q9: What is cross-validation?\n",
    "Cross-validation splits training data into folds, trains on some and validates on others repeatedly. This provides more robust performance estimates than single splits.\n",
    "\n",
    "##### Q10: How can radiologists use the insights we gained with the datanalysis performed above?\n",
    "They could use these quantitative features as additional diagnostic markers. The automated analysis could help standardize interpretations and catch subtle patterns humans might miss."
   ]
  },
  {
   "cell_type": "code",
   "execution_count": null,
   "id": "dc2fafcb-150a-411a-9547-0c6e5fa5c72b",
   "metadata": {},
   "outputs": [],
   "source": []
  },
  {
   "cell_type": "code",
   "execution_count": null,
   "id": "a6dd7652-0afe-4c87-800e-7e8ae962d942",
   "metadata": {},
   "outputs": [],
   "source": []
  },
  {
   "cell_type": "code",
   "execution_count": null,
   "id": "f5fcbef1-bf83-40d7-bab3-6211ca89e37d",
   "metadata": {},
   "outputs": [],
   "source": []
  },
  {
   "cell_type": "code",
   "execution_count": null,
   "id": "f45c5a23-0828-40b6-97f0-7de66cc8c1f5",
   "metadata": {},
   "outputs": [],
   "source": []
  },
  {
   "cell_type": "code",
   "execution_count": null,
   "id": "1dd3f8e4-27a7-443c-b95b-5ff1c325a886",
   "metadata": {},
   "outputs": [],
   "source": []
  },
  {
   "cell_type": "code",
   "execution_count": null,
   "id": "31ac448a-12f5-4275-b564-89c2d7127eb7",
   "metadata": {},
   "outputs": [],
   "source": []
  },
  {
   "cell_type": "code",
   "execution_count": null,
   "id": "fcc1afb2-c6c1-4aab-ba9a-f8ea5a7d3d62",
   "metadata": {},
   "outputs": [],
   "source": []
  },
  {
   "cell_type": "code",
   "execution_count": null,
   "id": "e4761d2a-5ed6-4c7b-911c-d0814a2dd568",
   "metadata": {},
   "outputs": [],
   "source": []
  },
  {
   "cell_type": "code",
   "execution_count": null,
   "id": "7f550571-421c-4610-a6c0-8240c682f94a",
   "metadata": {},
   "outputs": [],
   "source": []
  },
  {
   "cell_type": "code",
   "execution_count": null,
   "id": "6d03b6ed-1c48-4e5e-b389-5c3cea6cccfb",
   "metadata": {},
   "outputs": [],
   "source": []
  },
  {
   "cell_type": "code",
   "execution_count": null,
   "id": "cda75294-840e-43d1-b0b9-b33f32c88c70",
   "metadata": {},
   "outputs": [],
   "source": []
  },
  {
   "cell_type": "code",
   "execution_count": null,
   "id": "504d1b30-54f2-4e72-b8ba-2bde044f0ba5",
   "metadata": {},
   "outputs": [],
   "source": []
  }
 ],
 "metadata": {
  "kernelspec": {
   "display_name": "Python 3 (ipykernel)",
   "language": "python",
   "name": "python3"
  },
  "language_info": {
   "codemirror_mode": {
    "name": "ipython",
    "version": 3
   },
   "file_extension": ".py",
   "mimetype": "text/x-python",
   "name": "python",
   "nbconvert_exporter": "python",
   "pygments_lexer": "ipython3",
   "version": "3.11.13"
  }
 },
 "nbformat": 4,
 "nbformat_minor": 5
}
